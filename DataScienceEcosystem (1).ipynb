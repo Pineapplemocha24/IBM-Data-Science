{
 "cells": [
  {
   "cell_type": "markdown",
   "id": "7b901a47-037b-4ad0-af10-89ef7b97b372",
   "metadata": {},
   "source": [
    "# Data Science Tools and Ecosystem"
   ]
  },
  {
   "cell_type": "markdown",
   "id": "469e2256-c4bb-4811-b140-24998f999930",
   "metadata": {},
   "source": [
    "In this notebook, Data Science Tools and Ecosystem are summarized."
   ]
  },
  {
   "cell_type": "markdown",
   "id": "228e6910-41d8-4fcb-b3ed-00681425d54c",
   "metadata": {},
   "source": [
    "Some of the popular languages that Data Scientists use are:\n",
    "1. Python\n",
    "2. R\n",
    "3. Julia\n",
    "4. Ruby\n",
    "5. SQL\n",
    "6. Scala"
   ]
  },
  {
   "cell_type": "markdown",
   "id": "355b2f8c-0110-4090-924f-22d249249586",
   "metadata": {},
   "source": [
    "Some of the commonly used libraries used by Data Scientists include:\n",
    "1. SciPy\n",
    "2. TensorFlow\n",
    "3. SciKit-learn\n",
    "4. PyTorch\n",
    "5. Beautiful Soup"
   ]
  },
  {
   "cell_type": "markdown",
   "id": "8aba314c-c8a7-479f-91e2-e3f1e6beda21",
   "metadata": {},
   "source": [
    "| Data Science Tools |\n",
    "|--------------------|\n",
    "| RStudio |\n",
    "| Visual Studio Code |\n",
    "| JupyterLab |"
   ]
  },
  {
   "cell_type": "markdown",
   "id": "1d11d910-b8b9-47da-a5fc-82e25b79f8f5",
   "metadata": {},
   "source": [
    "### Below are a few examples of evaluating arithmetic expressions in Python"
   ]
  },
  {
   "cell_type": "code",
   "execution_count": 2,
   "id": "f71930d4-9ce8-4156-8040-6c3c06bb0d70",
   "metadata": {},
   "outputs": [
    {
     "data": {
      "text/plain": [
       "17"
      ]
     },
     "execution_count": 2,
     "metadata": {},
     "output_type": "execute_result"
    }
   ],
   "source": [
    "## This a simple arithmetic expression to mutiply then add integers\n",
    "(3*4)+5"
   ]
  },
  {
   "cell_type": "code",
   "execution_count": 3,
   "id": "97535f8a-3929-40fd-be66-316fb0e3c326",
   "metadata": {},
   "outputs": [
    {
     "data": {
      "text/plain": [
       "3.3333333333333335"
      ]
     },
     "execution_count": 3,
     "metadata": {},
     "output_type": "execute_result"
    }
   ],
   "source": [
    "## This will convert 200 minutes to hours by diving by 60\n",
    "200/60"
   ]
  },
  {
   "cell_type": "markdown",
   "id": "74944976-ba1c-42cc-81dc-74ca5455ad74",
   "metadata": {},
   "source": [
    "**Objectives:**\n",
    "- List Data Science Tools\n",
    "- List data science languages\n",
    "- Carry out simple arithmetic\n",
    "- Create markwdown and code blocks"
   ]
  },
  {
   "cell_type": "markdown",
   "id": "121f52e8-77b3-4480-b1c4-f13c6ee00bc9",
   "metadata": {},
   "source": [
    "## Author\n",
    "Blessing Israel"
   ]
  },
  {
   "cell_type": "markdown",
   "id": "d4b5111b-391d-4988-9d27-1735bb4ed1a0",
   "metadata": {},
   "source": [
    "[My Work on Github](https://github.com/Pineapplemocha24/IBM-Data-Science)"
   ]
  },
  {
   "cell_type": "code",
   "execution_count": null,
   "id": "76b869bb-ddd1-422d-9720-8c9a5c16efbf",
   "metadata": {},
   "outputs": [],
   "source": []
  }
 ],
 "metadata": {
  "kernelspec": {
   "display_name": "Python 3 (ipykernel)",
   "language": "python",
   "name": "python3"
  },
  "language_info": {
   "codemirror_mode": {
    "name": "ipython",
    "version": 3
   },
   "file_extension": ".py",
   "mimetype": "text/x-python",
   "name": "python",
   "nbconvert_exporter": "python",
   "pygments_lexer": "ipython3",
   "version": "3.11.7"
  }
 },
 "nbformat": 4,
 "nbformat_minor": 5
}
